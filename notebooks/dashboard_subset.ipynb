{
 "cells": [
  {
   "cell_type": "code",
   "execution_count": 18,
   "id": "70c42357",
   "metadata": {},
   "outputs": [],
   "source": [
    "import pickle\n",
    "import pandas as pd\n",
    "import numpy as np"
   ]
  },
  {
   "cell_type": "code",
   "execution_count": 2,
   "id": "89d92724",
   "metadata": {},
   "outputs": [],
   "source": [
    "with open('../datasets/epic-100/labels/p01.pkl', 'rb') as f:\n",
    "    p01 = pickle.load(f)"
   ]
  },
  {
   "cell_type": "code",
   "execution_count": 8,
   "id": "bf55282d",
   "metadata": {},
   "outputs": [],
   "source": [
    "subset = p01.index.values[:10]"
   ]
  },
  {
   "cell_type": "code",
   "execution_count": 9,
   "id": "6c7ab5ec",
   "metadata": {},
   "outputs": [
    {
     "name": "stdout",
     "output_type": "stream",
     "text": [
      "P01_01_0\n",
      "P01_01_1\n",
      "P01_01_10\n",
      "P01_01_100\n",
      "P01_01_101\n",
      "P01_01_102\n",
      "P01_01_103\n",
      "P01_01_104\n",
      "P01_01_105\n",
      "P01_01_106\n"
     ]
    }
   ],
   "source": [
    "for s in subset:\n",
    "    print(s)"
   ]
  },
  {
   "cell_type": "code",
   "execution_count": 14,
   "id": "33d5ca99",
   "metadata": {},
   "outputs": [],
   "source": [
    "with open('../subset.txt', 'r') as f:\n",
    "    lines = f.read().splitlines()"
   ]
  },
  {
   "cell_type": "code",
   "execution_count": 15,
   "id": "7f85caf6",
   "metadata": {},
   "outputs": [
    {
     "data": {
      "text/plain": [
       "['P01_01_0',\n",
       " 'P01_01_1',\n",
       " 'P01_01_10',\n",
       " 'P01_01_100',\n",
       " 'P01_01_101',\n",
       " 'P01_01_102',\n",
       " 'P01_01_103',\n",
       " 'P01_01_104',\n",
       " 'P01_01_105',\n",
       " 'P01_01_106']"
      ]
     },
     "execution_count": 15,
     "metadata": {},
     "output_type": "execute_result"
    }
   ],
   "source": [
    "lines"
   ]
  },
  {
   "cell_type": "code",
   "execution_count": 19,
   "id": "4432013a",
   "metadata": {},
   "outputs": [],
   "source": [
    "uids: np.ndarray = pd.read_csv('../subset.csv', converters={\"uid\": str})[\n",
    "            \"uid\"\n",
    "        ].values"
   ]
  },
  {
   "cell_type": "code",
   "execution_count": 20,
   "id": "d1b3b058",
   "metadata": {},
   "outputs": [
    {
     "data": {
      "text/plain": [
       "array(['P01_01_0', 'P01_01_1', 'P01_01_10', 'P01_01_100', 'P01_01_101',\n",
       "       'P01_01_102', 'P01_01_103', 'P01_01_104', 'P01_01_105',\n",
       "       'P01_01_106'], dtype=object)"
      ]
     },
     "execution_count": 20,
     "metadata": {},
     "output_type": "execute_result"
    }
   ],
   "source": [
    "uids"
   ]
  },
  {
   "cell_type": "code",
   "execution_count": null,
   "id": "0b55968d",
   "metadata": {},
   "outputs": [],
   "source": []
  }
 ],
 "metadata": {
  "kernelspec": {
   "display_name": "Python 3",
   "language": "python",
   "name": "python3"
  },
  "language_info": {
   "codemirror_mode": {
    "name": "ipython",
    "version": 3
   },
   "file_extension": ".py",
   "mimetype": "text/x-python",
   "name": "python",
   "nbconvert_exporter": "python",
   "pygments_lexer": "ipython3",
   "version": "3.8.5"
  }
 },
 "nbformat": 4,
 "nbformat_minor": 5
}
