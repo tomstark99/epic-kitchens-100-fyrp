{
 "cells": [
  {
   "cell_type": "code",
   "execution_count": 1,
   "id": "1a6d02ae",
   "metadata": {},
   "outputs": [],
   "source": [
    "import pickle"
   ]
  },
  {
   "cell_type": "code",
   "execution_count": 2,
   "id": "37d8f3bb",
   "metadata": {},
   "outputs": [],
   "source": [
    "with open('../datasets/epic-100/labels/p01.pkl', 'rb') as f:\n",
    "    p01 = pickle.load(f)"
   ]
  },
  {
   "cell_type": "code",
   "execution_count": 8,
   "id": "50ea6186",
   "metadata": {},
   "outputs": [],
   "source": [
    "subset = p01.index.values[:10]"
   ]
  },
  {
   "cell_type": "code",
   "execution_count": 9,
   "id": "5839f84e",
   "metadata": {},
   "outputs": [
    {
     "name": "stdout",
     "output_type": "stream",
     "text": [
      "P01_01_0\n",
      "P01_01_1\n",
      "P01_01_10\n",
      "P01_01_100\n",
      "P01_01_101\n",
      "P01_01_102\n",
      "P01_01_103\n",
      "P01_01_104\n",
      "P01_01_105\n",
      "P01_01_106\n"
     ]
    }
   ],
   "source": [
    "for s in subset:\n",
    "    print(s)"
   ]
  },
  {
   "cell_type": "code",
   "execution_count": 14,
   "id": "8c9b5315",
   "metadata": {},
   "outputs": [],
   "source": [
    "with open('../subset.txt', 'r') as f:\n",
    "    lines = f.read().splitlines()"
   ]
  },
  {
   "cell_type": "code",
   "execution_count": 15,
   "id": "1e0fb4ad",
   "metadata": {},
   "outputs": [
    {
     "data": {
      "text/plain": [
       "['P01_01_0',\n",
       " 'P01_01_1',\n",
       " 'P01_01_10',\n",
       " 'P01_01_100',\n",
       " 'P01_01_101',\n",
       " 'P01_01_102',\n",
       " 'P01_01_103',\n",
       " 'P01_01_104',\n",
       " 'P01_01_105',\n",
       " 'P01_01_106']"
      ]
     },
     "execution_count": 15,
     "metadata": {},
     "output_type": "execute_result"
    }
   ],
   "source": [
    "lines"
   ]
  },
  {
   "cell_type": "code",
   "execution_count": null,
   "id": "33731f46",
   "metadata": {},
   "outputs": [],
   "source": []
  }
 ],
 "metadata": {
  "kernelspec": {
   "display_name": "Python 3",
   "language": "python",
   "name": "python3"
  },
  "language_info": {
   "codemirror_mode": {
    "name": "ipython",
    "version": 3
   },
   "file_extension": ".py",
   "mimetype": "text/x-python",
   "name": "python",
   "nbconvert_exporter": "python",
   "pygments_lexer": "ipython3",
   "version": "3.8.5"
  }
 },
 "nbformat": 4,
 "nbformat_minor": 5
}
