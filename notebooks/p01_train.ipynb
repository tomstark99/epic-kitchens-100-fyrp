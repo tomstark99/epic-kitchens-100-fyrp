{
 "cells": [
  {
   "cell_type": "code",
   "execution_count": 6,
   "id": "53a29f2e",
   "metadata": {},
   "outputs": [],
   "source": [
    "import pickle\n",
    "import torch.nn as nn\n",
    "import torch.nn.functional as F\n",
    "import pandas as pd\n",
    "from features.pkl import PickleFeatureWriter\n",
    "from datasets.pickle_dataset import MultiPickleDataset\n",
    "import os\n",
    "from torch.utils.data import DataLoader\n",
    "from pathlib import Path\n",
    "from torch.optim import Adam\n",
    "import torch\n",
    "from frame_sampling import RandomSampler\n",
    "from scripts.train_mtrn import train_test_loader\n",
    "from systems import EpicActionRecogintionShapleyClassifier\n",
    "from livelossplot import PlotLosses\n",
    "import numpy as np\n",
    "from torchvideo.samplers import frame_idx_to_list"
   ]
  },
  {
   "cell_type": "code",
   "execution_count": 7,
   "id": "89f81fbb",
   "metadata": {},
   "outputs": [],
   "source": [
    "train = Path('/mnt/storage/home/jb18789/scratch/datasets/epic-100/features/67217_train_features.pkl')\n",
    "test = Path('/mnt/storage/home/jb18789/scratch/datasets/epic-100/features/9668_val_features.pkl')\n",
    "\n",
    "# with open(train, 'rb') as f:\n",
    "#     df = pickle.load(f)\n",
    "\n",
    "# p.parent / f'{id}.pkl'\\"
   ]
  },
  {
   "cell_type": "code",
   "execution_count": 8,
   "id": "ed35b73e",
   "metadata": {},
   "outputs": [],
   "source": [
    "class V_MTRN(nn.Module):\n",
    "    \n",
    "    def __init__(self, frame_count: int):\n",
    "        super().__init__()\n",
    "        self.frame_count = frame_count\n",
    "        self.fc1 = nn.Linear(256 * frame_count, 1024)\n",
    "#         self.fc1_2 = nn.Linear(4096, 1024)\n",
    "#         self.d1 = nn.Dropout(p=0.7)\n",
    "        self.d2 = nn.Dropout(p=0.3)\n",
    "        self.fc2 = nn.Linear(1024, 512)\n",
    "        self.fc3_verb = nn.Linear(512, 97)\n",
    "    \n",
    "    def forward(self, x):\n",
    "        x = x.view(-1, 256 * self.frame_count)\n",
    "        x = F.relu(self.fc1(x))\n",
    "#         x = self.d1(x)\n",
    "#         x = F.relu(self.fc1_2(x))\n",
    "        x = self.d2(x)\n",
    "        x = F.relu(self.fc2(x))\n",
    "#         x = self.dropout(x)\n",
    "        x = self.fc3_verb(x)\n",
    "        \n",
    "        return x\n",
    "    \n",
    "class N_MTRN(nn.Module):\n",
    "    \n",
    "    def __init__(self, frame_count: int):\n",
    "        super().__init__()\n",
    "        self.frame_count = frame_count\n",
    "        self.fc1 = nn.Linear(256 * frame_count, 1024)\n",
    "        self.dropout = nn.Dropout(p=0.5)\n",
    "        self.fc2 = nn.Linear(1024, 512)\n",
    "        self.fc3_verb = nn.Linear(512, 97)\n",
    "    \n",
    "    def forward(self, x):\n",
    "        x = x.view(-1, 256 * self.frame_count)\n",
    "        x = F.relu(self.fc1(x))\n",
    "        x = self.dropout(x)\n",
    "        x = F.relu(self.fc2(x))\n",
    "        x = self.fc3_verb(x)\n",
    "        \n",
    "        return x"
   ]
  },
  {
   "cell_type": "code",
   "execution_count": 9,
   "id": "2a6c2188",
   "metadata": {},
   "outputs": [],
   "source": [
    "def no_collate(args):\n",
    "    return args"
   ]
  },
  {
   "cell_type": "code",
   "execution_count": 10,
   "id": "3c586a96",
   "metadata": {},
   "outputs": [],
   "source": [
    "models = [V_MTRN(frame_count=i) for i in range(1,9)]\n",
    "optims = [Adam(m.parameters(), lr=1e-4) for m in models]\n",
    "test_samplers = [RandomSampler(frame_count=m.frame_count, snippet_length=1,test=True) for m in models]\n",
    "train_samplers = [RandomSampler(frame_count=m.frame_count, snippet_length=1,test=False) for m in models]"
   ]
  },
  {
   "cell_type": "code",
   "execution_count": 11,
   "id": "f779aa7d",
   "metadata": {},
   "outputs": [],
   "source": [
    "trainloader = DataLoader(MultiPickleDataset(train), batch_size=512, collate_fn=no_collate, shuffle=True)\n",
    "testloader = DataLoader(MultiPickleDataset(test), batch_size=512, collate_fn=no_collate, shuffle=False)"
   ]
  },
  {
   "cell_type": "code",
   "execution_count": 12,
   "id": "233159c7",
   "metadata": {},
   "outputs": [
    {
     "name": "stdout",
     "output_type": "stream",
     "text": [
      "Classifier, model: <class '__main__.V_MTRN'>, type: verb, frames: 4\n"
     ]
    }
   ],
   "source": [
    "classifier = EpicActionRecogintionShapleyClassifier(\n",
    "    models[3],\n",
    "    torch.device('cpu'),\n",
    "    optims[3],\n",
    "    train_samplers[3],\n",
    "    test_samplers[3],\n",
    "    trainloader,\n",
    "    testloader,\n",
    "    'verb'\n",
    ")\n"
   ]
  },
  {
   "cell_type": "code",
   "execution_count": 13,
   "id": "00f8abd8",
   "metadata": {},
   "outputs": [
    {
     "data": {
      "text/plain": [
       "V_MTRN(\n",
       "  (fc1): Linear(in_features=1024, out_features=1024, bias=True)\n",
       "  (d2): Dropout(p=0.3, inplace=False)\n",
       "  (fc2): Linear(in_features=1024, out_features=512, bias=True)\n",
       "  (fc3_verb): Linear(in_features=512, out_features=97, bias=True)\n",
       ")"
      ]
     },
     "execution_count": 13,
     "metadata": {},
     "output_type": "execute_result"
    }
   ],
   "source": [
    "# from sklearn.utils import class_weight\n",
    "\n",
    "test_classes = torch.tensor([label['verb_class'] for label in trainloader.dataset.pkl_dict['labels']])\n",
    "\n",
    "t1 = torch.tensor(test_classes)\n",
    "\n",
    "# weights = class_weight.compute_class_weight('balanced',classes=t1.unique().numpy(), y=t1.numpy())\n",
    "weights = len(t1)/(97*t1.bincount(minlength=97))\n",
    "\n",
    "# t1.bincount(minlength=97)\n",
    "# torch.tensor(weights, dtype=)\n",
    "# np.arange(0,97,1)\n",
    "# weights\n",
    "# classifier.train_weights\n",
    "models[3]"
   ]
  },
  {
   "cell_type": "code",
   "execution_count": null,
   "id": "29fc8adc",
   "metadata": {},
   "outputs": [],
   "source": [
    "import matplotlib.pyplot as plt\n",
    "from collections import Counter\n",
    "lslsls = Counter(all_classes)"
   ]
  },
  {
   "cell_type": "code",
   "execution_count": null,
   "id": "449e2fdf",
   "metadata": {},
   "outputs": [],
   "source": [
    "xd = iter(trainloader)\n",
    "data, labels = classifier._sample_frames(xd.next())"
   ]
  },
  {
   "cell_type": "code",
   "execution_count": null,
   "id": "6344d75f",
   "metadata": {},
   "outputs": [],
   "source": [
    "\n",
    "labels\n",
    "# pxx = torch.cat([x['verb_class'] for x in labels])\n",
    "\n",
    "out = classifier.model(data)\n",
    "# weights[pxx]\n",
    "import torch.nn.functional as F\n",
    "\n",
    "F.cross_entropy(out, labels['verb_class'],weight=weights)\n",
    "# out[:,1] * weights[1]"
   ]
  },
  {
   "cell_type": "code",
   "execution_count": 14,
   "id": "37eddbbc",
   "metadata": {},
   "outputs": [
    {
     "data": {
      "text/plain": [
       "V_MTRN(\n",
       "  (fc1): Linear(in_features=1024, out_features=1024, bias=True)\n",
       "  (d2): Dropout(p=0.3, inplace=False)\n",
       "  (fc2): Linear(in_features=1024, out_features=512, bias=True)\n",
       "  (fc3_verb): Linear(in_features=512, out_features=97, bias=True)\n",
       ")"
      ]
     },
     "execution_count": 14,
     "metadata": {},
     "output_type": "execute_result"
    }
   ],
   "source": [
    "# alie = torch.tensor(list(dict(sorted(lslsls.items())).items()))\n",
    "# fig, ax = plt.subplots()\n",
    "\n",
    "# ax.plot(alie[:,1])\n",
    "# trainloader.dataset.pkl_dict['labels']\n",
    "models[3]"
   ]
  },
  {
   "cell_type": "code",
   "execution_count": 15,
   "id": "825fd826",
   "metadata": {},
   "outputs": [
    {
     "data": {
      "image/png": "[encoded data removed]",
      "text/plain": [
       "<Figure size 864x864 with 4 Axes>"
      ]
     },
     "metadata": {
      "needs_background": "light"
     },
     "output_type": "display_data"
    },
    {
     "name": "stdout",
     "output_type": "stream",
     "text": [
      "accuracy\n",
      "\ttraining         \t (min:   19.419, max:   26.466, cur:   26.466)\n",
      "\tvalidation       \t (min:   20.988, max:   25.363, cur:   24.972)\n",
      "accuracy_5\n",
      "\ttraining         \t (min:   59.570, max:   71.089, cur:   71.089)\n",
      "\tvalidation       \t (min:   66.900, max:   70.590, cur:   69.979)\n",
      "Loss\n",
      "\ttraining         \t (min:    2.534, max:    3.187, cur:    2.534)\n",
      "\tvalidation       \t (min:    2.595, max:    2.791, cur:    2.609)\n"
     ]
    },
    {
     "ename": "KeyboardInterrupt",
     "evalue": "",
     "output_type": "error",
     "traceback": [
      "\u001b[0;31m---------------------------------------------------------------------------\u001b[0m",
      "\u001b[0;31mKeyboardInterrupt\u001b[0m                         Traceback (most recent call last)",
      "\u001b[0;32m<ipython-input-15-557cd3aca681>\u001b[0m in \u001b[0;36m<module>\u001b[0;34m\u001b[0m\n\u001b[1;32m      6\u001b[0m     \u001b[0mlogs\u001b[0m \u001b[0;34m=\u001b[0m \u001b[0;34m{\u001b[0m\u001b[0;34m}\u001b[0m\u001b[0;34m\u001b[0m\u001b[0;34m\u001b[0m\u001b[0m\n\u001b[1;32m      7\u001b[0m \u001b[0;34m\u001b[0m\u001b[0m\n\u001b[0;32m----> 8\u001b[0;31m     \u001b[0mtrain_result\u001b[0m \u001b[0;34m=\u001b[0m \u001b[0mclassifier\u001b[0m\u001b[0;34m.\u001b[0m\u001b[0mtrain_step\u001b[0m\u001b[0;34m(\u001b[0m\u001b[0;34m)\u001b[0m\u001b[0;34m\u001b[0m\u001b[0;34m\u001b[0m\u001b[0m\n\u001b[0m\u001b[1;32m      9\u001b[0m \u001b[0;34m\u001b[0m\u001b[0m\n\u001b[1;32m     10\u001b[0m     \u001b[0mepoch_loss\u001b[0m \u001b[0;34m=\u001b[0m \u001b[0msum\u001b[0m\u001b[0;34m(\u001b[0m\u001b[0mtrain_result\u001b[0m\u001b[0;34m[\u001b[0m\u001b[0;34mf'{models[3].frame_count}_loss'\u001b[0m\u001b[0;34m]\u001b[0m\u001b[0;34m)\u001b[0m \u001b[0;34m/\u001b[0m \u001b[0mlen\u001b[0m\u001b[0;34m(\u001b[0m\u001b[0mtrainloader\u001b[0m\u001b[0;34m)\u001b[0m\u001b[0;34m\u001b[0m\u001b[0;34m\u001b[0m\u001b[0m\n",
      "\u001b[0;32m~/epic-kitchens-100-fyrp/src/systems.py\u001b[0m in \u001b[0;36mtrain_step\u001b[0;34m(self)\u001b[0m\n\u001b[1;32m    508\u001b[0m \u001b[0;34m\u001b[0m\u001b[0m\n\u001b[1;32m    509\u001b[0m             \u001b[0;32mif\u001b[0m \u001b[0mself\u001b[0m\u001b[0;34m.\u001b[0m\u001b[0mtask_type\u001b[0m\u001b[0;34m:\u001b[0m\u001b[0;34m\u001b[0m\u001b[0;34m\u001b[0m\u001b[0m\n\u001b[0;32m--> 510\u001b[0;31m                 \u001b[0mstep_results\u001b[0m \u001b[0;34m=\u001b[0m \u001b[0mself\u001b[0m\u001b[0;34m.\u001b[0m\u001b[0m_type_step\u001b[0m\u001b[0;34m(\u001b[0m\u001b[0mself\u001b[0m\u001b[0;34m.\u001b[0m\u001b[0m_sample_frames\u001b[0m\u001b[0;34m(\u001b[0m\u001b[0mdata\u001b[0m\u001b[0;34m)\u001b[0m\u001b[0;34m)\u001b[0m\u001b[0;34m\u001b[0m\u001b[0;34m\u001b[0m\u001b[0m\n\u001b[0m\u001b[1;32m    511\u001b[0m             \u001b[0;32melse\u001b[0m\u001b[0;34m:\u001b[0m\u001b[0;34m\u001b[0m\u001b[0;34m\u001b[0m\u001b[0m\n\u001b[1;32m    512\u001b[0m                 \u001b[0mstep_results\u001b[0m \u001b[0;34m=\u001b[0m \u001b[0mself\u001b[0m\u001b[0;34m.\u001b[0m\u001b[0m_step\u001b[0m\u001b[0;34m(\u001b[0m\u001b[0mself\u001b[0m\u001b[0;34m.\u001b[0m\u001b[0m_sample_frames\u001b[0m\u001b[0;34m(\u001b[0m\u001b[0mdata\u001b[0m\u001b[0;34m)\u001b[0m\u001b[0;34m)\u001b[0m\u001b[0;34m\u001b[0m\u001b[0;34m\u001b[0m\u001b[0m\n",
      "\u001b[0;32m~/epic-kitchens-100-fyrp/src/systems.py\u001b[0m in \u001b[0;36m_type_step\u001b[0;34m(self, batch)\u001b[0m\n\u001b[1;32m    384\u001b[0m         \u001b[0mdata\u001b[0m\u001b[0;34m,\u001b[0m \u001b[0mlabels\u001b[0m \u001b[0;34m=\u001b[0m \u001b[0mbatch\u001b[0m\u001b[0;34m\u001b[0m\u001b[0;34m\u001b[0m\u001b[0m\n\u001b[1;32m    385\u001b[0m \u001b[0;34m\u001b[0m\u001b[0m\n\u001b[0;32m--> 386\u001b[0;31m         \u001b[0moutputs\u001b[0m \u001b[0;34m=\u001b[0m \u001b[0mself\u001b[0m\u001b[0;34m.\u001b[0m\u001b[0mmodel\u001b[0m\u001b[0;34m(\u001b[0m\u001b[0mdata\u001b[0m\u001b[0;34m.\u001b[0m\u001b[0mto\u001b[0m\u001b[0;34m(\u001b[0m\u001b[0mself\u001b[0m\u001b[0;34m.\u001b[0m\u001b[0mdevice\u001b[0m\u001b[0;34m)\u001b[0m\u001b[0;34m)\u001b[0m\u001b[0;34m\u001b[0m\u001b[0;34m\u001b[0m\u001b[0m\n\u001b[0m\u001b[1;32m    387\u001b[0m \u001b[0;34m\u001b[0m\u001b[0m\n\u001b[1;32m    388\u001b[0m         tasks = {\n",
      "\u001b[0;32m~/.conda/envs/epic-100/lib/python3.8/site-packages/torch/nn/modules/module.py\u001b[0m in \u001b[0;36m_call_impl\u001b[0;34m(self, *input, **kwargs)\u001b[0m\n\u001b[1;32m    725\u001b[0m             \u001b[0mresult\u001b[0m \u001b[0;34m=\u001b[0m \u001b[0mself\u001b[0m\u001b[0;34m.\u001b[0m\u001b[0m_slow_forward\u001b[0m\u001b[0;34m(\u001b[0m\u001b[0;34m*\u001b[0m\u001b[0minput\u001b[0m\u001b[0;34m,\u001b[0m \u001b[0;34m**\u001b[0m\u001b[0mkwargs\u001b[0m\u001b[0;34m)\u001b[0m\u001b[0;34m\u001b[0m\u001b[0;34m\u001b[0m\u001b[0m\n\u001b[1;32m    726\u001b[0m         \u001b[0;32melse\u001b[0m\u001b[0;34m:\u001b[0m\u001b[0;34m\u001b[0m\u001b[0;34m\u001b[0m\u001b[0m\n\u001b[0;32m--> 727\u001b[0;31m             \u001b[0mresult\u001b[0m \u001b[0;34m=\u001b[0m \u001b[0mself\u001b[0m\u001b[0;34m.\u001b[0m\u001b[0mforward\u001b[0m\u001b[0;34m(\u001b[0m\u001b[0;34m*\u001b[0m\u001b[0minput\u001b[0m\u001b[0;34m,\u001b[0m \u001b[0;34m**\u001b[0m\u001b[0mkwargs\u001b[0m\u001b[0;34m)\u001b[0m\u001b[0;34m\u001b[0m\u001b[0;34m\u001b[0m\u001b[0m\n\u001b[0m\u001b[1;32m    728\u001b[0m         for hook in itertools.chain(\n\u001b[1;32m    729\u001b[0m                 \u001b[0m_global_forward_hooks\u001b[0m\u001b[0;34m.\u001b[0m\u001b[0mvalues\u001b[0m\u001b[0;34m(\u001b[0m\u001b[0;34m)\u001b[0m\u001b[0;34m,\u001b[0m\u001b[0;34m\u001b[0m\u001b[0;34m\u001b[0m\u001b[0m\n",
      "\u001b[0;32m<ipython-input-8-606a33377453>\u001b[0m in \u001b[0;36mforward\u001b[0;34m(self, x)\u001b[0m\n\u001b[1;32m     13\u001b[0m     \u001b[0;32mdef\u001b[0m \u001b[0mforward\u001b[0m\u001b[0;34m(\u001b[0m\u001b[0mself\u001b[0m\u001b[0;34m,\u001b[0m \u001b[0mx\u001b[0m\u001b[0;34m)\u001b[0m\u001b[0;34m:\u001b[0m\u001b[0;34m\u001b[0m\u001b[0;34m\u001b[0m\u001b[0m\n\u001b[1;32m     14\u001b[0m         \u001b[0mx\u001b[0m \u001b[0;34m=\u001b[0m \u001b[0mx\u001b[0m\u001b[0;34m.\u001b[0m\u001b[0mview\u001b[0m\u001b[0;34m(\u001b[0m\u001b[0;34m-\u001b[0m\u001b[0;36m1\u001b[0m\u001b[0;34m,\u001b[0m \u001b[0;36m256\u001b[0m \u001b[0;34m*\u001b[0m \u001b[0mself\u001b[0m\u001b[0;34m.\u001b[0m\u001b[0mframe_count\u001b[0m\u001b[0;34m)\u001b[0m\u001b[0;34m\u001b[0m\u001b[0;34m\u001b[0m\u001b[0m\n\u001b[0;32m---> 15\u001b[0;31m         \u001b[0mx\u001b[0m \u001b[0;34m=\u001b[0m \u001b[0mF\u001b[0m\u001b[0;34m.\u001b[0m\u001b[0mrelu\u001b[0m\u001b[0;34m(\u001b[0m\u001b[0mself\u001b[0m\u001b[0;34m.\u001b[0m\u001b[0mfc1\u001b[0m\u001b[0;34m(\u001b[0m\u001b[0mx\u001b[0m\u001b[0;34m)\u001b[0m\u001b[0;34m)\u001b[0m\u001b[0;34m\u001b[0m\u001b[0;34m\u001b[0m\u001b[0m\n\u001b[0m\u001b[1;32m     16\u001b[0m \u001b[0;31m#         x = self.d1(x)\u001b[0m\u001b[0;34m\u001b[0m\u001b[0;34m\u001b[0m\u001b[0;34m\u001b[0m\u001b[0m\n\u001b[1;32m     17\u001b[0m \u001b[0;31m#         x = F.relu(self.fc1_2(x))\u001b[0m\u001b[0;34m\u001b[0m\u001b[0;34m\u001b[0m\u001b[0;34m\u001b[0m\u001b[0m\n",
      "\u001b[0;32m~/.conda/envs/epic-100/lib/python3.8/site-packages/torch/nn/modules/module.py\u001b[0m in \u001b[0;36m_call_impl\u001b[0;34m(self, *input, **kwargs)\u001b[0m\n\u001b[1;32m    725\u001b[0m             \u001b[0mresult\u001b[0m \u001b[0;34m=\u001b[0m \u001b[0mself\u001b[0m\u001b[0;34m.\u001b[0m\u001b[0m_slow_forward\u001b[0m\u001b[0;34m(\u001b[0m\u001b[0;34m*\u001b[0m\u001b[0minput\u001b[0m\u001b[0;34m,\u001b[0m \u001b[0;34m**\u001b[0m\u001b[0mkwargs\u001b[0m\u001b[0;34m)\u001b[0m\u001b[0;34m\u001b[0m\u001b[0;34m\u001b[0m\u001b[0m\n\u001b[1;32m    726\u001b[0m         \u001b[0;32melse\u001b[0m\u001b[0;34m:\u001b[0m\u001b[0;34m\u001b[0m\u001b[0;34m\u001b[0m\u001b[0m\n\u001b[0;32m--> 727\u001b[0;31m             \u001b[0mresult\u001b[0m \u001b[0;34m=\u001b[0m \u001b[0mself\u001b[0m\u001b[0;34m.\u001b[0m\u001b[0mforward\u001b[0m\u001b[0;34m(\u001b[0m\u001b[0;34m*\u001b[0m\u001b[0minput\u001b[0m\u001b[0;34m,\u001b[0m \u001b[0;34m**\u001b[0m\u001b[0mkwargs\u001b[0m\u001b[0;34m)\u001b[0m\u001b[0;34m\u001b[0m\u001b[0;34m\u001b[0m\u001b[0m\n\u001b[0m\u001b[1;32m    728\u001b[0m         for hook in itertools.chain(\n\u001b[1;32m    729\u001b[0m                 \u001b[0m_global_forward_hooks\u001b[0m\u001b[0;34m.\u001b[0m\u001b[0mvalues\u001b[0m\u001b[0;34m(\u001b[0m\u001b[0;34m)\u001b[0m\u001b[0;34m,\u001b[0m\u001b[0;34m\u001b[0m\u001b[0;34m\u001b[0m\u001b[0m\n",
      "\u001b[0;32m~/.conda/envs/epic-100/lib/python3.8/site-packages/torch/nn/modules/linear.py\u001b[0m in \u001b[0;36mforward\u001b[0;34m(self, input)\u001b[0m\n\u001b[1;32m     91\u001b[0m \u001b[0;34m\u001b[0m\u001b[0m\n\u001b[1;32m     92\u001b[0m     \u001b[0;32mdef\u001b[0m \u001b[0mforward\u001b[0m\u001b[0;34m(\u001b[0m\u001b[0mself\u001b[0m\u001b[0;34m,\u001b[0m \u001b[0minput\u001b[0m\u001b[0;34m:\u001b[0m \u001b[0mTensor\u001b[0m\u001b[0;34m)\u001b[0m \u001b[0;34m->\u001b[0m \u001b[0mTensor\u001b[0m\u001b[0;34m:\u001b[0m\u001b[0;34m\u001b[0m\u001b[0;34m\u001b[0m\u001b[0m\n\u001b[0;32m---> 93\u001b[0;31m         \u001b[0;32mreturn\u001b[0m \u001b[0mF\u001b[0m\u001b[0;34m.\u001b[0m\u001b[0mlinear\u001b[0m\u001b[0;34m(\u001b[0m\u001b[0minput\u001b[0m\u001b[0;34m,\u001b[0m \u001b[0mself\u001b[0m\u001b[0;34m.\u001b[0m\u001b[0mweight\u001b[0m\u001b[0;34m,\u001b[0m \u001b[0mself\u001b[0m\u001b[0;34m.\u001b[0m\u001b[0mbias\u001b[0m\u001b[0;34m)\u001b[0m\u001b[0;34m\u001b[0m\u001b[0;34m\u001b[0m\u001b[0m\n\u001b[0m\u001b[1;32m     94\u001b[0m \u001b[0;34m\u001b[0m\u001b[0m\n\u001b[1;32m     95\u001b[0m     \u001b[0;32mdef\u001b[0m \u001b[0mextra_repr\u001b[0m\u001b[0;34m(\u001b[0m\u001b[0mself\u001b[0m\u001b[0;34m)\u001b[0m \u001b[0;34m->\u001b[0m \u001b[0mstr\u001b[0m\u001b[0;34m:\u001b[0m\u001b[0;34m\u001b[0m\u001b[0;34m\u001b[0m\u001b[0m\n",
      "\u001b[0;32m~/.conda/envs/epic-100/lib/python3.8/site-packages/torch/nn/functional.py\u001b[0m in \u001b[0;36mlinear\u001b[0;34m(input, weight, bias)\u001b[0m\n\u001b[1;32m   1688\u001b[0m     \u001b[0;32mif\u001b[0m \u001b[0minput\u001b[0m\u001b[0;34m.\u001b[0m\u001b[0mdim\u001b[0m\u001b[0;34m(\u001b[0m\u001b[0;34m)\u001b[0m \u001b[0;34m==\u001b[0m \u001b[0;36m2\u001b[0m \u001b[0;32mand\u001b[0m \u001b[0mbias\u001b[0m \u001b[0;32mis\u001b[0m \u001b[0;32mnot\u001b[0m \u001b[0;32mNone\u001b[0m\u001b[0;34m:\u001b[0m\u001b[0;34m\u001b[0m\u001b[0;34m\u001b[0m\u001b[0m\n\u001b[1;32m   1689\u001b[0m         \u001b[0;31m# fused op is marginally faster\u001b[0m\u001b[0;34m\u001b[0m\u001b[0;34m\u001b[0m\u001b[0;34m\u001b[0m\u001b[0m\n\u001b[0;32m-> 1690\u001b[0;31m         \u001b[0mret\u001b[0m \u001b[0;34m=\u001b[0m \u001b[0mtorch\u001b[0m\u001b[0;34m.\u001b[0m\u001b[0maddmm\u001b[0m\u001b[0;34m(\u001b[0m\u001b[0mbias\u001b[0m\u001b[0;34m,\u001b[0m \u001b[0minput\u001b[0m\u001b[0;34m,\u001b[0m \u001b[0mweight\u001b[0m\u001b[0;34m.\u001b[0m\u001b[0mt\u001b[0m\u001b[0;34m(\u001b[0m\u001b[0;34m)\u001b[0m\u001b[0;34m)\u001b[0m\u001b[0;34m\u001b[0m\u001b[0;34m\u001b[0m\u001b[0m\n\u001b[0m\u001b[1;32m   1691\u001b[0m     \u001b[0;32melse\u001b[0m\u001b[0;34m:\u001b[0m\u001b[0;34m\u001b[0m\u001b[0;34m\u001b[0m\u001b[0m\n\u001b[1;32m   1692\u001b[0m         \u001b[0moutput\u001b[0m \u001b[0;34m=\u001b[0m \u001b[0minput\u001b[0m\u001b[0;34m.\u001b[0m\u001b[0mmatmul\u001b[0m\u001b[0;34m(\u001b[0m\u001b[0mweight\u001b[0m\u001b[0;34m.\u001b[0m\u001b[0mt\u001b[0m\u001b[0;34m(\u001b[0m\u001b[0;34m)\u001b[0m\u001b[0;34m)\u001b[0m\u001b[0;34m\u001b[0m\u001b[0;34m\u001b[0m\u001b[0m\n",
      "\u001b[0;31mKeyboardInterrupt\u001b[0m: "
     ]
    }
   ],
   "source": [
    "liveloss = PlotLosses()\n",
    "print(f'Training:\\n{classifier.model}\\nwith batch size: {trainloader.batch_size}')\n",
    "\n",
    "for epoch in range(400):\n",
    "    \n",
    "    logs = {}\n",
    "    \n",
    "    train_result = classifier.train_step()\n",
    "    \n",
    "    epoch_loss = sum(train_result[f'{models[3].frame_count}_loss']) / len(trainloader)\n",
    "    epoch_acc1 = sum(train_result[f'{models[3].frame_count}_acc1']) / len(trainloader)\n",
    "    epoch_acc5 = sum(train_result[f'{models[3].frame_count}_acc5']) / len(trainloader)\n",
    "    \n",
    "    test_result = classifier.test_step()\n",
    "    \n",
    "    epoch_loss_ = sum(test_result[f'{models[3].frame_count}_loss']) / len(testloader)\n",
    "    epoch_acc1_ = sum(test_result[f'{models[3].frame_count}_acc1']) / len(testloader)\n",
    "    epoch_acc5_ = sum(test_result[f'{models[3].frame_count}_acc5']) / len(testloader)\n",
    "    \n",
    "    logs['loss'] = epoch_loss\n",
    "    logs['accuracy'] = epoch_acc1\n",
    "    logs['accuracy_5'] = epoch_acc5\n",
    "    logs['val_loss'] = epoch_loss_\n",
    "    logs['val_accuracy'] = epoch_acc1_\n",
    "    logs['val_accuracy_5'] = epoch_acc5_\n",
    "\n",
    "    liveloss.update(logs)\n",
    "    liveloss.send()"
   ]
  },
  {
   "cell_type": "code",
   "execution_count": null,
   "id": "de8df3c2",
   "metadata": {},
   "outputs": [],
   "source": [
    "class h_mask(object):\n",
    "    def __init__(self, p: float=0.5):\n",
    "        self.p = p\n",
    "        \n",
    "    def __call__(self, sample):\n",
    "        x = np.random.choice([0,1], p=[1-self.p, self.p])\n",
    "        if x:\n",
    "            "
   ]
  },
  {
   "cell_type": "code",
   "execution_count": null,
   "id": "2943072d",
   "metadata": {},
   "outputs": [],
   "source": [
    "it = iter(trainloader)\n",
    "x = it.next()"
   ]
  },
  {
   "cell_type": "code",
   "execution_count": null,
   "id": "be044932",
   "metadata": {},
   "outputs": [],
   "source": [
    "def _sample_frames(data):\n",
    "    features = []\n",
    "    labels = {}\n",
    "    for feature, label in data:\n",
    "        video_length = feature.shape[0]\n",
    "        if video_length < frame_samplers[3].frame_count:\n",
    "            raise ValueError(f\"Video too short to sample {frame_samplers[3].frame_count} from\")\n",
    "        idxs = np.array(frame_idx_to_list(frame_samplers[3].sample(video_length)))\n",
    "        features.append(feature[idxs])\n",
    "        for k in label.keys():\n",
    "            if k in labels:\n",
    "                labels[k].append(label[k])\n",
    "            else:\n",
    "                labels[k] = [label[k]]\n",
    "\n",
    "    for k in labels.keys():\n",
    "        try:\n",
    "            labels[k] = torch.tensor(labels[k])\n",
    "        except ValueError:\n",
    "            pass\n",
    "\n",
    "    return torch.tensor(features, dtype=torch.float), labels"
   ]
  },
  {
   "cell_type": "code",
   "execution_count": null,
   "id": "411e72e0",
   "metadata": {},
   "outputs": [],
   "source": [
    "alie = _sample_frames(x)"
   ]
  },
  {
   "cell_type": "code",
   "execution_count": null,
   "id": "b6006c79",
   "metadata": {},
   "outputs": [],
   "source": [
    "data, labels = _sample_frames(x)"
   ]
  },
  {
   "cell_type": "code",
   "execution_count": null,
   "id": "e6d768b8",
   "metadata": {},
   "outputs": [],
   "source": [
    "data"
   ]
  },
  {
   "cell_type": "code",
   "execution_count": null,
   "id": "4bbf0e6f",
   "metadata": {},
   "outputs": [],
   "source": []
  },
  {
   "cell_type": "code",
   "execution_count": null,
   "id": "14fc8f01",
   "metadata": {},
   "outputs": [],
   "source": []
  },
  {
   "cell_type": "code",
   "execution_count": null,
   "id": "cbf7bdb5",
   "metadata": {},
   "outputs": [],
   "source": []
  },
  {
   "cell_type": "code",
   "execution_count": null,
   "id": "16db07d0",
   "metadata": {},
   "outputs": [],
   "source": []
  }
 ],
 "metadata": {
  "kernelspec": {
   "display_name": "Python 3",
   "language": "python",
   "name": "python3"
  },
  "language_info": {
   "codemirror_mode": {
    "name": "ipython",
    "version": 3
   },
   "file_extension": ".py",
   "mimetype": "text/x-python",
   "name": "python",
   "nbconvert_exporter": "python",
   "pygments_lexer": "ipython3",
   "version": "3.8.5"
  }
 },
 "nbformat": 4,
 "nbformat_minor": 5
}
