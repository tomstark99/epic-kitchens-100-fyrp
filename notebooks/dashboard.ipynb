{
 "cells": [
  {
   "cell_type": "code",
   "execution_count": 11,
   "id": "0793f301",
   "metadata": {},
   "outputs": [],
   "source": [
    "import pandas as pd\n",
    "import numpy as np"
   ]
  },
  {
   "cell_type": "code",
   "execution_count": 2,
   "id": "459f1a79",
   "metadata": {},
   "outputs": [],
   "source": [
    "results = pd.read_pickle('../datasets/epic-100/esvs/f_train_mf-esv-min_frames=1-max_frames=8.pkl')\n",
    "labels = pd.read_pickle('../datasets/epic-100/features/67217_train_features.pkl')"
   ]
  },
  {
   "cell_type": "code",
   "execution_count": 3,
   "id": "93b996b2",
   "metadata": {},
   "outputs": [],
   "source": [
    "l = labels['labels']"
   ]
  },
  {
   "cell_type": "code",
   "execution_count": 8,
   "id": "792fa081",
   "metadata": {},
   "outputs": [],
   "source": [
    "idx = 'P01_01_10'\n",
    "\n",
    "alie = build_dict(l)"
   ]
  },
  {
   "cell_type": "code",
   "execution_count": 5,
   "id": "5c8a87e5",
   "metadata": {},
   "outputs": [],
   "source": [
    "def build_dict(lst):\n",
    "    return {d['narration_id']: d for d in lst}"
   ]
  },
  {
   "cell_type": "code",
   "execution_count": 9,
   "id": "35bd1794",
   "metadata": {},
   "outputs": [
    {
     "data": {
      "text/plain": [
       "{'narration_id': 'P01_01_10',\n",
       " 'participant_id': 'P01',\n",
       " 'video_id': 'P01_01',\n",
       " 'narration_timestamp': '00:00:23.340',\n",
       " 'start_timestamp': '00:00:24.97',\n",
       " 'stop_timestamp': '00:00:26.20',\n",
       " 'start_frame': tensor([1498]),\n",
       " 'stop_frame': tensor([1572]),\n",
       " 'narration': 'open drawer',\n",
       " 'verb': 'open',\n",
       " 'verb_class': tensor([3]),\n",
       " 'noun': 'drawer',\n",
       " 'noun_class': tensor([8]),\n",
       " 'all_nouns': ('drawer',),\n",
       " 'all_noun_classes': tensor([8]),\n",
       " 'frame_size': tensor([256]),\n",
       " 'num_frames': tensor([75])}"
      ]
     },
     "execution_count": 9,
     "metadata": {},
     "output_type": "execute_result"
    }
   ],
   "source": [
    "alie[idx]"
   ]
  },
  {
   "cell_type": "code",
   "execution_count": 10,
   "id": "1ec0daf9",
   "metadata": {},
   "outputs": [],
   "source": [
    "n_frames = 3"
   ]
  },
  {
   "cell_type": "code",
   "execution_count": 62,
   "id": "5fd5479c",
   "metadata": {},
   "outputs": [
    {
     "data": {
      "text/plain": [
       "array([ 3, 11, 18, 26, 33, 41, 48, 56, 63, 71])"
      ]
     },
     "execution_count": 62,
     "metadata": {},
     "output_type": "execute_result"
    }
   ],
   "source": [
    "total=alie[idx]['num_frames']\n",
    "bins = np.linspace(0,total,11,dtype=int,axis=0).squeeze()\n",
    "\n",
    "# data=np.random.random(100)\n",
    "# np.digitize(data,bins)\n",
    "# np.median(bins,axis=1)\n",
    "\n",
    "median = (0.5*(bins[1:]+bins[:-1])).astype(int)\n",
    "median"
   ]
  },
  {
   "cell_type": "code",
   "execution_count": 38,
   "id": "8cd5db02",
   "metadata": {},
   "outputs": [],
   "source": [
    "wtf = results['uids']"
   ]
  },
  {
   "cell_type": "code",
   "execution_count": 41,
   "id": "8fc60e36",
   "metadata": {},
   "outputs": [],
   "source": [
    "pff = [seq_idxs[3] for seq_idxs in results['sequence_idxs']]"
   ]
  },
  {
   "cell_type": "code",
   "execution_count": 63,
   "id": "d0e31dbe",
   "metadata": {},
   "outputs": [
    {
     "data": {
      "text/plain": [
       "[array([41]),\n",
       " array([18, 56]),\n",
       " array([11, 41, 63]),\n",
       " array([11, 26, 48, 63]),\n",
       " array([11, 26, 41, 56, 71]),\n",
       " array([ 3, 18, 33, 41, 56, 71]),\n",
       " array([ 3, 18, 26, 41, 48, 56, 71]),\n",
       " array([ 3, 11, 26, 33, 41, 48, 63, 71])]"
      ]
     },
     "execution_count": 63,
     "metadata": {},
     "output_type": "execute_result"
    }
   ],
   "source": [
    "[median[idx] for idx in pff]"
   ]
  },
  {
   "cell_type": "code",
   "execution_count": 65,
   "id": "ee95436e",
   "metadata": {},
   "outputs": [],
   "source": [
    "from pathlib import Path"
   ]
  },
  {
   "cell_type": "code",
   "execution_count": 67,
   "id": "6a3aa655",
   "metadata": {},
   "outputs": [],
   "source": [
    "path = Path('../datasets/epic-100/esvs/f_train_mf-esv-min_frames=1-max_frames=8.pkl')"
   ]
  },
  {
   "cell_type": "code",
   "execution_count": 71,
   "id": "b7df6006",
   "metadata": {},
   "outputs": [
    {
     "data": {
      "text/plain": [
       "False"
      ]
     },
     "execution_count": 71,
     "metadata": {},
     "output_type": "execute_result"
    }
   ],
   "source": [
    "'val' in path.name"
   ]
  },
  {
   "cell_type": "code",
   "execution_count": 79,
   "id": "817ed644",
   "metadata": {},
   "outputs": [
    {
     "data": {
      "text/plain": [
       "PosixPath('/mnt/storage/scratch/jb18789/datasets/epic-100/esvs/f_train_mf-esv-min_frames=1-max_frames=8.pkl')"
      ]
     },
     "execution_count": 79,
     "metadata": {},
     "output_type": "execute_result"
    }
   ],
   "source": [
    "path.resolve()"
   ]
  },
  {
   "cell_type": "code",
   "execution_count": 80,
   "id": "679bbb02",
   "metadata": {},
   "outputs": [
    {
     "ename": "TypeError",
     "evalue": "array() missing required argument 'object' (pos 1)",
     "output_type": "error",
     "traceback": [
      "\u001b[0;31m---------------------------------------------------------------------------\u001b[0m",
      "\u001b[0;31mTypeError\u001b[0m                                 Traceback (most recent call last)",
      "\u001b[0;32m<ipython-input-80-aa16ff882bdb>\u001b[0m in \u001b[0;36m<module>\u001b[0;34m\u001b[0m\n\u001b[0;32m----> 1\u001b[0;31m \u001b[0mxd\u001b[0m \u001b[0;34m=\u001b[0m \u001b[0mnp\u001b[0m\u001b[0;34m.\u001b[0m\u001b[0marray\u001b[0m\u001b[0;34m(\u001b[0m\u001b[0;34m)\u001b[0m\u001b[0;34m\u001b[0m\u001b[0;34m\u001b[0m\u001b[0m\n\u001b[0m",
      "\u001b[0;31mTypeError\u001b[0m: array() missing required argument 'object' (pos 1)"
     ]
    }
   ],
   "source": [
    "xd = np.array()"
   ]
  },
  {
   "cell_type": "code",
   "execution_count": 81,
   "id": "96c3ae55",
   "metadata": {},
   "outputs": [],
   "source": [
    "mtrn_verb = np.array([\n",
    "    [35.53,26.51,81.80,72.21,29.38,11.87,59.11,31.17],\n",
    "    [39.42,28.87,84.29,72.84,33.15,13.10,63.84,32.75],\n",
    "    [41.88,30.66,85.67,73.91,35.38,13.68,67.17,33.59],\n",
    "    [43.94,30.93,86.78,73.87,37.22,13.58,69.31,33.33],\n",
    "    [45.91,31.81,87.66,74.04,38.55,14.17,70.58,33.83],\n",
    "    [46.97,31.67,88.18,74.02,39.76,14.18,71.98,33.47],\n",
    "    [47.98,32.10,88.95,74.18,40.54,14.38,72.90,34.49],\n",
    "    [48.51,32.07,89.00,74.15,41.24,13.85,73.73,33.96]\n",
    "])\n",
    "\n",
    "mf_verb = np.array([\n",
    "    [80.50,65.99,96.54,89.92,79.23,56.22,94.17,79.73],\n",
    "    [81.94,66.64,97.12,90.08,81.20,57.09,95.36,80.34],\n",
    "    [82.81,67.02,97.51,90.52,82.16,57.35,95.84,80.23],\n",
    "    [83.33,67.02,97.74,90.35,82.91,57.51,96.07,80.69],\n",
    "    [83.91,66.89,97.86,90.25,83.39,57.44,96.56,80.73],\n",
    "    [84.28,67.00,97.96,90.34,84.00,57.60,96.68,80.44],\n",
    "    [84.67,67.10,98.21,90.37,84.33,57.51,96.83,80.31],\n",
    "    [84.98,66.90,98.36,90.34,84.60,57.75,97.04,80.85]\n",
    "])\n"
   ]
  },
  {
   "cell_type": "code",
   "execution_count": 91,
   "id": "1f91c663",
   "metadata": {},
   "outputs": [
    {
     "data": {
      "text/plain": [
       "array([[80.5 , 65.99, 96.54, 89.92, 79.23, 56.22, 94.17, 79.73],\n",
       "       [84.98, 67.1 , 98.36, 90.52, 84.6 , 57.75, 97.04, 80.85]])"
      ]
     },
     "execution_count": 91,
     "metadata": {},
     "output_type": "execute_result"
    }
   ],
   "source": [
    "np.array([mf_verb.min(axis=0),\n",
    "      mf_verb.max(axis=0)])"
   ]
  },
  {
   "cell_type": "code",
   "execution_count": 85,
   "id": "afcaec88",
   "metadata": {},
   "outputs": [
    {
     "data": {
      "text/plain": [
       "array([84.98, 67.1 , 98.36, 90.52, 84.6 , 57.75, 97.04, 80.85])"
      ]
     },
     "execution_count": 85,
     "metadata": {},
     "output_type": "execute_result"
    }
   ],
   "source": [
    "mf_verb.max(axis=0)"
   ]
  },
  {
   "cell_type": "code",
   "execution_count": 87,
   "id": "e486ce5b",
   "metadata": {},
   "outputs": [
    {
     "data": {
      "text/plain": [
       "array([[80.5 , 65.99, 96.54, 89.92, 79.23, 56.22, 94.17, 79.73],\n",
       "       [81.94, 66.64, 97.12, 90.08, 81.2 , 57.09, 95.36, 80.34],\n",
       "       [82.81, 67.02, 97.51, 90.52, 82.16, 57.35, 95.84, 80.23],\n",
       "       [83.33, 67.02, 97.74, 90.35, 82.91, 57.51, 96.07, 80.69],\n",
       "       [83.91, 66.89, 97.86, 90.25, 83.39, 57.44, 96.56, 80.73],\n",
       "       [84.28, 67.  , 97.96, 90.34, 84.  , 57.6 , 96.68, 80.44],\n",
       "       [84.67, 67.1 , 98.21, 90.37, 84.33, 57.51, 96.83, 80.31],\n",
       "       [84.98, 66.9 , 98.36, 90.34, 84.6 , 57.75, 97.04, 80.85]])"
      ]
     },
     "execution_count": 87,
     "metadata": {},
     "output_type": "execute_result"
    }
   ],
   "source": [
    "mf_verb"
   ]
  },
  {
   "cell_type": "code",
   "execution_count": null,
   "id": "458bd1d8",
   "metadata": {},
   "outputs": [],
   "source": []
  }
 ],
 "metadata": {
  "kernelspec": {
   "display_name": "Python 3",
   "language": "python",
   "name": "python3"
  },
  "language_info": {
   "codemirror_mode": {
    "name": "ipython",
    "version": 3
   },
   "file_extension": ".py",
   "mimetype": "text/x-python",
   "name": "python",
   "nbconvert_exporter": "python",
   "pygments_lexer": "ipython3",
   "version": "3.8.5"
  }
 },
 "nbformat": 4,
 "nbformat_minor": 5
}
