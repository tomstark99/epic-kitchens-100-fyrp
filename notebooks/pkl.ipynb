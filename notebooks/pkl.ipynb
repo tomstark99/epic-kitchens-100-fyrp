{
 "cells": [
  {
   "cell_type": "code",
   "execution_count": 2,
   "id": "53a29f2e",
   "metadata": {},
   "outputs": [],
   "source": [
    "import pickle\n",
    "import pandas as pd\n",
    "from features.pkl import PickleFeatureWriter\n",
    "import os\n",
    "from pathlib import Path"
   ]
  },
  {
   "cell_type": "code",
   "execution_count": 4,
   "id": "89f81fbb",
   "metadata": {},
   "outputs": [
    {
     "data": {
      "text/plain": [
       "PosixPath('/mnt/storage/home/jb18789/scratch/datasets/epic-100/video_id_features/P01.pkl')"
      ]
     },
     "execution_count": 4,
     "metadata": {},
     "output_type": "execute_result"
    }
   ],
   "source": [
    "p = Path('/mnt/storage/home/jb18789/scratch/datasets/epic-100/video_id_features/p01_features.pkl')\n",
    "\n",
    "# with open(d, 'rb') as f:\n",
    "#     df = pickle.load(f)\n",
    "id = 'P01'\n",
    "p.parent / f'{id}.pkl'"
   ]
  },
  {
   "cell_type": "code",
   "execution_count": null,
   "id": "ed35b73e",
   "metadata": {},
   "outputs": [],
   "source": [
    "os.path.getsize(d)"
   ]
  },
  {
   "cell_type": "code",
   "execution_count": null,
   "id": "2a6c2188",
   "metadata": {},
   "outputs": [],
   "source": [
    "df"
   ]
  },
  {
   "cell_type": "code",
   "execution_count": null,
   "id": "3c586a96",
   "metadata": {},
   "outputs": [],
   "source": []
  }
 ],
 "metadata": {
  "kernelspec": {
   "display_name": "Python 3",
   "language": "python",
   "name": "python3"
  },
  "language_info": {
   "codemirror_mode": {
    "name": "ipython",
    "version": 3
   },
   "file_extension": ".py",
   "mimetype": "text/x-python",
   "name": "python",
   "nbconvert_exporter": "python",
   "pygments_lexer": "ipython3",
   "version": "3.8.5"
  }
 },
 "nbformat": 4,
 "nbformat_minor": 5
}
