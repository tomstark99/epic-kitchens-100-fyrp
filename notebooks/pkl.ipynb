{
 "cells": [
  {
   "cell_type": "code",
   "execution_count": 2,
   "id": "53a29f2e",
   "metadata": {},
   "outputs": [],
   "source": [
    "import pickle\n",
    "import pandas as pd"
   ]
  },
  {
   "cell_type": "code",
   "execution_count": 3,
   "id": "89f81fbb",
   "metadata": {},
   "outputs": [],
   "source": [
    "df = pd.read_pickle('../datasets/epic-100/labels/p01.pkl')"
   ]
  },
  {
   "cell_type": "code",
   "execution_count": 15,
   "id": "ed35b73e",
   "metadata": {},
   "outputs": [
    {
     "data": {
      "text/plain": [
       "{'P01_01',\n",
       " 'P01_02',\n",
       " 'P01_03',\n",
       " 'P01_04',\n",
       " 'P01_05',\n",
       " 'P01_06',\n",
       " 'P01_07',\n",
       " 'P01_08',\n",
       " 'P01_09',\n",
       " 'P01_10',\n",
       " 'P01_102',\n",
       " 'P01_103',\n",
       " 'P01_104',\n",
       " 'P01_105',\n",
       " 'P01_106',\n",
       " 'P01_107',\n",
       " 'P01_108',\n",
       " 'P01_109',\n",
       " 'P01_16',\n",
       " 'P01_17',\n",
       " 'P01_18',\n",
       " 'P01_19'}"
      ]
     },
     "execution_count": 15,
     "metadata": {},
     "output_type": "execute_result"
    }
   ],
   "source": [
    "set(df['video_id'].values)"
   ]
  }
 ],
 "metadata": {
  "kernelspec": {
   "display_name": "Python 3",
   "language": "python",
   "name": "python3"
  },
  "language_info": {
   "codemirror_mode": {
    "name": "ipython",
    "version": 3
   },
   "file_extension": ".py",
   "mimetype": "text/x-python",
   "name": "python",
   "nbconvert_exporter": "python",
   "pygments_lexer": "ipython3",
   "version": "3.8.5"
  }
 },
 "nbformat": 4,
 "nbformat_minor": 5
}
