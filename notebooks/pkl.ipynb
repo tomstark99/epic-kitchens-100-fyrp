{
 "cells": [
  {
   "cell_type": "code",
   "execution_count": 1,
   "id": "43945ce2",
   "metadata": {},
   "outputs": [],
   "source": [
    "import pickle\n",
    "import pandas as pd\n",
    "from features.pkl import PickleFeatureWriter\n",
    "from datasets.pickle_dataset import MultiPickleDataset\n",
    "import os\n",
    "from pathlib import Path\n",
    "from models.esvs import V_MTRN, N_MTRN\n",
    "from torch.optim import Adam\n",
    "import torch\n",
    "from frame_sampling import RandomSampler\n",
    "from scripts.train_mtrn import train_test_loader\n",
    "from systems import EpicActionRecogintionShapleyClassifier\n",
    "from livelossplot import PlotLosses\n",
    "import numpy as np\n",
    "from torchvideo.samplers import frame_idx_to_list"
   ]
  },
  {
   "cell_type": "code",
   "execution_count": null,
   "id": "742f3006",
   "metadata": {},
   "outputs": [],
   "source": [
    "p = Path('/mnt/storage/home/jb18789/scratch/datasets/epic-100/video_id_features/p01_features.pkl')\n",
    "\n",
    "# with open(p, 'rb') as f:\n",
    "#     df = pickle.load(f)\n",
    "# id = 'P01'\n",
    "# p.parent / f'{id}.pkl'\\"
   ]
  }
 ],
 "metadata": {
  "kernelspec": {
   "display_name": "Python 3",
   "language": "python",
   "name": "python3"
  },
  "language_info": {
   "codemirror_mode": {
    "name": "ipython",
    "version": 3
   },
   "file_extension": ".py",
   "mimetype": "text/x-python",
   "name": "python",
   "nbconvert_exporter": "python",
   "pygments_lexer": "ipython3",
   "version": "3.8.5"
  }
 },
 "nbformat": 4,
 "nbformat_minor": 5
}
