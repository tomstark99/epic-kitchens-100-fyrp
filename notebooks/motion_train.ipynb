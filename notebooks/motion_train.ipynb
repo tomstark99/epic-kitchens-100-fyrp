{
 "cells": [
  {
   "cell_type": "code",
   "execution_count": 1,
   "id": "53a29f2e",
   "metadata": {},
   "outputs": [],
   "source": [
    "import pickle\n",
    "import torch.nn as nn\n",
    "import torch.nn.functional as F\n",
    "import pandas as pd\n",
    "from features.pkl import PickleFeatureWriter\n",
    "from datasets.hdf5_dataset import HDF5Dataset\n",
    "import os\n",
    "from torch.utils.data import DataLoader\n",
    "from pathlib import Path\n",
    "from torch.optim import Adam\n",
    "import torch\n",
    "from frame_sampling import RandomSampler\n",
    "from scripts.train_mtrn import train_test_loader\n",
    "from systems import EpicActionRecogintionShapleyClassifier\n",
    "from livelossplot import PlotLosses\n",
    "import numpy as np\n",
    "from torchvideo.samplers import frame_idx_to_list\n",
    "\n",
    "# from models.esvs import V_MTRN, N_MTRN"
   ]
  },
  {
   "cell_type": "code",
   "execution_count": 2,
   "id": "89f81fbb",
   "metadata": {},
   "outputs": [],
   "source": [
    "train_labels = Path('/mnt/storage/home/jb18789/scratch/datasets/epic-100/features/67217_train_features.pkl')\n",
    "test_labels = Path('/mnt/storage/home/jb18789/scratch/datasets/epic-100/features/9668_val_features.pkl')\n",
    "\n",
    "train = Path('/mnt/storage/scratch/wp13824/vil/datasets/epic-mf/audio_slowfast_visual_mformer_features_train.hdf5')\n",
    "test = Path('/mnt/storage/scratch/wp13824/vil/datasets/epic-mf/audio_slowfast_visual_mformer_features_val.hdf5')\n",
    "\n",
    "# with open(train, 'rb') as f:\n",
    "#     df = pickle.load(f)\n",
    "\n",
    "# p.parent / f'{id}.pkl'\\"
   ]
  },
  {
   "cell_type": "code",
   "execution_count": 17,
   "id": "ed35b73e",
   "metadata": {},
   "outputs": [],
   "source": [
    "class V_MTRN(nn.Module):\n",
    "    \n",
    "    def __init__(self, frame_count: int):\n",
    "        super().__init__()\n",
    "        self.frame_count = frame_count\n",
    "        self.fc1 = nn.Linear(768 * frame_count, 256)\n",
    "#         self.fc1_2 = nn.Linear(4096, 1024)\n",
    "        self.d1 = nn.Dropout(p=0.5)\n",
    "#         self.d2 = nn.Dropout(p=0.3)\n",
    "#         self.fc2 = nn.Linear(1024, 512)\n",
    "        self.fc3_verb = nn.Linear(256, 97)\n",
    "    \n",
    "    def forward(self, x):\n",
    "        x = x.view(-1, 768 * self.frame_count)\n",
    "        x = F.relu(self.fc1(x))\n",
    "        x = self.d1(x)\n",
    "#         x = F.relu(self.fc1_2(x))\n",
    "#         x = self.d2(x)\n",
    "#         x = F.relu(self.fc2(x))\n",
    "#         x = self.d2(x)\n",
    "#         x = self.dropout(x)\n",
    "        x = self.fc3_verb(x)\n",
    "        \n",
    "        return x\n",
    "    \n",
    "class N_MTRN(nn.Module):\n",
    "    \n",
    "    def __init__(self, frame_count: int):\n",
    "        super().__init__()\n",
    "        self.frame_count = frame_count\n",
    "        self.fc1 = nn.Linear(768 * frame_count, 256)\n",
    "#         self.fc1_2 = nn.Linear(4096, 1024)\n",
    "        self.d1 = nn.Dropout(p=0.5)\n",
    "#         self.d2 = nn.Dropout(p=0.3)\n",
    "#         self.fc2 = nn.Linear(1024, 512)\n",
    "        self.fc3_noun = nn.Linear(256, 300)\n",
    "    \n",
    "    def forward(self, x):\n",
    "        x = x.view(-1, 768 * self.frame_count)\n",
    "        x = F.relu(self.fc1(x))\n",
    "        x = self.d1(x)\n",
    "#         x = F.relu(self.fc1_2(x))\n",
    "#         x = self.d2(x)\n",
    "#         x = F.relu(self.fc2(x))\n",
    "#         x = self.d2(x)\n",
    "#         x = self.dropout(x)\n",
    "        x = self.fc3_noun(x)\n",
    "        \n",
    "        return x"
   ]
  },
  {
   "cell_type": "code",
   "execution_count": 4,
   "id": "2a6c2188",
   "metadata": {},
   "outputs": [],
   "source": [
    "def no_collate(args):\n",
    "    return args"
   ]
  },
  {
   "cell_type": "code",
   "execution_count": 18,
   "id": "3c586a96",
   "metadata": {},
   "outputs": [],
   "source": [
    "v_models = [V_MTRN(frame_count=i) for i in range(1,9)]\n",
    "n_models = [N_MTRN(frame_count=i) for i in range(1,9)]\n",
    "v_optims = [Adam(m.parameters(), lr=5e-5) for m in v_models]\n",
    "n_optims = [Adam(m.parameters(), lr=5e-5) for m in n_models]\n",
    "test_samplers = [RandomSampler(frame_count=m.frame_count, snippet_length=1,test=True) for m in v_models]\n",
    "train_samplers = [RandomSampler(frame_count=m.frame_count, snippet_length=1,test=False) for m in v_models]"
   ]
  },
  {
   "cell_type": "code",
   "execution_count": 6,
   "id": "f779aa7d",
   "metadata": {},
   "outputs": [],
   "source": [
    "trainloader = DataLoader(HDF5Dataset(train, train_labels), batch_size=512, collate_fn=no_collate, shuffle=True)"
   ]
  },
  {
   "cell_type": "code",
   "execution_count": 7,
   "id": "83dca044",
   "metadata": {},
   "outputs": [],
   "source": [
    "testloader = DataLoader(HDF5Dataset(test, test_labels), batch_size=512, collate_fn=no_collate, shuffle=False)"
   ]
  },
  {
   "cell_type": "code",
   "execution_count": 19,
   "id": "233159c7",
   "metadata": {},
   "outputs": [
    {
     "name": "stdout",
     "output_type": "stream",
     "text": [
      "Classifier, model: <class '__main__.V_MTRN'>, type: verb, frames: 4\n"
     ]
    }
   ],
   "source": [
    "classifier = EpicActionRecogintionShapleyClassifier(\n",
    "    v_models[3],\n",
    "    torch.device('cpu'),\n",
    "    v_optims[3],\n",
    "    train_samplers[3],\n",
    "    test_samplers[3],\n",
    "    trainloader,\n",
    "    testloader,\n",
    "    'verb'\n",
    ")\n"
   ]
  },
  {
   "cell_type": "code",
   "execution_count": 24,
   "id": "00f8abd8",
   "metadata": {},
   "outputs": [
    {
     "data": {
      "text/plain": [
       "V_MTRN(\n",
       "  (fc1): Linear(in_features=1024, out_features=1024, bias=True)\n",
       "  (d2): Dropout(p=0.3, inplace=False)\n",
       "  (fc2): Linear(in_features=1024, out_features=512, bias=True)\n",
       "  (fc3_verb): Linear(in_features=512, out_features=97, bias=True)\n",
       ")"
      ]
     },
     "execution_count": 24,
     "metadata": {},
     "output_type": "execute_result"
    }
   ],
   "source": [
    "# from sklearn.utils import class_weight\n",
    "\n",
    "# test_classes = torch.tensor([label['verb_class'] for label in trainloader.dataset.pkl_dict['labels']])\n",
    "\n",
    "# t1 = torch.tensor(test_classes)\n",
    "\n",
    "# weights = class_weight.compute_class_weight('balanced',classes=t1.unique().numpy(), y=t1.numpy())\n",
    "# weights = len(t1)/(97*t1.bincount(minlength=97))\n",
    "\n",
    "# t1.bincount(minlength=97)\n",
    "# torch.tensor(weights, dtype=)\n",
    "# np.arange(0,97,1)\n",
    "# weights\n",
    "# classifier.train_weights\n",
    "v_models[3]"
   ]
  },
  {
   "cell_type": "code",
   "execution_count": null,
   "id": "29fc8adc",
   "metadata": {},
   "outputs": [],
   "source": [
    "import matplotlib.pyplot as plt\n",
    "from collections import Counter\n",
    "lslsls = Counter(all_classes)"
   ]
  },
  {
   "cell_type": "code",
   "execution_count": null,
   "id": "449e2fdf",
   "metadata": {},
   "outputs": [],
   "source": [
    "iterator = iter(trainloader)\n",
    "data, labels = classifier._sample_frames(iterator.next())"
   ]
  },
  {
   "cell_type": "code",
   "execution_count": null,
   "id": "6344d75f",
   "metadata": {},
   "outputs": [],
   "source": [
    "\n",
    "labels\n",
    "# pxx = torch.cat([x['verb_class'] for x in labels])\n",
    "\n",
    "out = classifier.model(data)\n",
    "# weights[pxx]\n",
    "import torch.nn.functional as F\n",
    "\n",
    "F.cross_entropy(out, labels['verb_class'],weight=weights)\n",
    "# out[:,1] * weights[1]"
   ]
  },
  {
   "cell_type": "code",
   "execution_count": 12,
   "id": "37eddbbc",
   "metadata": {},
   "outputs": [
    {
     "data": {
      "text/plain": [
       "V_MTRN(\n",
       "  (fc1): Linear(in_features=1024, out_features=1024, bias=True)\n",
       "  (d2): Dropout(p=0.3, inplace=False)\n",
       "  (fc2): Linear(in_features=1024, out_features=512, bias=True)\n",
       "  (fc3_verb): Linear(in_features=512, out_features=97, bias=True)\n",
       ")"
      ]
     },
     "execution_count": 12,
     "metadata": {},
     "output_type": "execute_result"
    }
   ],
   "source": [
    "# alie = torch.tensor(list(dict(sorted(lslsls.items())).items()))\n",
    "# fig, ax = plt.subplots()\n",
    "\n",
    "# ax.plot(alie[:,1])\n",
    "# trainloader.dataset.pkl_dict['labels']\n",
    "models[3]"
   ]
  },
  {
   "cell_type": "code",
   "execution_count": null,
   "id": "825fd826",
   "metadata": {},
   "outputs": [
    {
     "data": {
      "image/png": "[encoded data removed]",
      "text/plain": [
       "<Figure size 864x864 with 4 Axes>"
      ]
     },
     "metadata": {
      "needs_background": "light"
     },
     "output_type": "display_data"
    },
    {
     "name": "stdout",
     "output_type": "stream",
     "text": [
      "accuracy\n",
      "\ttraining         \t (min:   60.850, max:   90.713, cur:   90.610)\n",
      "\tvalidation       \t (min:   63.949, max:   67.102, cur:   66.452)\n",
      "accuracy_5\n",
      "\ttraining         \t (min:   79.235, max:   99.758, cur:   99.739)\n",
      "\tvalidation       \t (min:   86.904, max:   90.485, cur:   89.654)\n",
      "Loss\n",
      "\ttraining         \t (min:    0.278, max:    2.200, cur:    0.278)\n",
      "\tvalidation       \t (min:    1.341, max:    1.811, cur:    1.811)\n"
     ]
    }
   ],
   "source": [
    "liveloss = PlotLosses()\n",
    "print(f'Training:\\n{classifier.model}\\nwith batch size: {trainloader.batch_size}')\n",
    "\n",
    "for epoch in range(1000):\n",
    "    \n",
    "    logs = {}\n",
    "    \n",
    "    train_result = classifier.train_step()\n",
    "    \n",
    "    epoch_loss = sum(train_result[f'{v_models[3].frame_count}_loss']) / len(trainloader)\n",
    "    epoch_acc1 = sum(train_result[f'{v_models[3].frame_count}_acc1']) / len(trainloader)\n",
    "    epoch_acc5 = sum(train_result[f'{v_models[3].frame_count}_acc5']) / len(trainloader)\n",
    "    \n",
    "    test_result = classifier.test_step()\n",
    "    \n",
    "    epoch_loss_ = sum(test_result[f'{v_models[3].frame_count}_loss']) / len(testloader)\n",
    "    epoch_acc1_ = sum(test_result[f'{v_models[3].frame_count}_acc1']) / len(testloader)\n",
    "    epoch_acc5_ = sum(test_result[f'{v_models[3].frame_count}_acc5']) / len(testloader)\n",
    "    \n",
    "    logs['loss'] = epoch_loss\n",
    "    logs['accuracy'] = epoch_acc1\n",
    "    logs['accuracy_5'] = epoch_acc5\n",
    "    logs['val_loss'] = epoch_loss_\n",
    "    logs['val_accuracy'] = epoch_acc1_\n",
    "    logs['val_accuracy_5'] = epoch_acc5_\n",
    "\n",
    "    liveloss.update(logs)\n",
    "    liveloss.send()"
   ]
  },
  {
   "cell_type": "code",
   "execution_count": null,
   "id": "de8df3c2",
   "metadata": {},
   "outputs": [],
   "source": [
    "class h_mask(object):\n",
    "    def __init__(self, p: float=0.5):\n",
    "        self.p = p\n",
    "        \n",
    "    def __call__(self, sample):\n",
    "        x = np.random.choice([0,1], p=[1-self.p, self.p])\n",
    "        if x:\n",
    "            "
   ]
  },
  {
   "cell_type": "code",
   "execution_count": 29,
   "id": "2943072d",
   "metadata": {},
   "outputs": [],
   "source": [
    "it = iter(trainloader)\n",
    "x = it.next()\n",
    "\n",
    "data = it.next()\n",
    "\n",
    "sampled = classifier._sample_frames(data)\n",
    "\n",
    "d, l = sampled\n",
    "out = classifier.model(d)"
   ]
  },
  {
   "cell_type": "code",
   "execution_count": 31,
   "id": "ebe4cb0e",
   "metadata": {},
   "outputs": [
    {
     "data": {
      "text/plain": [
       "torch.Size([512, 97])"
      ]
     },
     "execution_count": 31,
     "metadata": {},
     "output_type": "execute_result"
    }
   ],
   "source": [
    "out.shape"
   ]
  },
  {
   "cell_type": "code",
   "execution_count": null,
   "id": "be044932",
   "metadata": {},
   "outputs": [],
   "source": [
    "def _sample_frames(data):\n",
    "    features = []\n",
    "    labels = {}\n",
    "    for feature, label in data:\n",
    "        video_length = feature.shape[0]\n",
    "        if video_length < frame_samplers[3].frame_count:\n",
    "            raise ValueError(f\"Video too short to sample {frame_samplers[3].frame_count} from\")\n",
    "        idxs = np.array(frame_idx_to_list(frame_samplers[3].sample(video_length)))\n",
    "        features.append(feature[idxs])\n",
    "        for k in label.keys():\n",
    "            if k in labels:\n",
    "                labels[k].append(label[k])\n",
    "            else:\n",
    "                labels[k] = [label[k]]\n",
    "\n",
    "    for k in labels.keys():\n",
    "        try:\n",
    "            labels[k] = torch.tensor(labels[k])\n",
    "        except ValueError:\n",
    "            pass\n",
    "\n",
    "    return torch.tensor(features, dtype=torch.float), labels"
   ]
  },
  {
   "cell_type": "code",
   "execution_count": null,
   "id": "411e72e0",
   "metadata": {},
   "outputs": [],
   "source": [
    "sampled = _sample_frames(x)"
   ]
  },
  {
   "cell_type": "code",
   "execution_count": 21,
   "id": "b6006c79",
   "metadata": {},
   "outputs": [],
   "source": [
    "# data, labels = _sample_frames(x)\n",
    "step = classifier.test_step()"
   ]
  },
  {
   "cell_type": "code",
   "execution_count": 27,
   "id": "e6d768b8",
   "metadata": {},
   "outputs": [],
   "source": [
    "torch.save(classifier.model.state_dict(),'mtrn_verb_frames=4_lr=1e-4_hl=1024_dc=2.pt')"
   ]
  },
  {
   "cell_type": "code",
   "execution_count": 24,
   "id": "4bbf0e6f",
   "metadata": {},
   "outputs": [
    {
     "data": {
      "text/plain": [
       "array([ 2.52381219, 28.89733495, 73.34088978])"
      ]
     },
     "execution_count": 24,
     "metadata": {},
     "output_type": "execute_result"
    }
   ],
   "source": [
    "# np.array(list(alie.values())).mean(1)"
   ]
  },
  {
   "cell_type": "code",
   "execution_count": 26,
   "id": "14fc8f01",
   "metadata": {},
   "outputs": [
    {
     "data": {
      "text/plain": [
       "V_MTRN(\n",
       "  (fc1): Linear(in_features=1024, out_features=1024, bias=True)\n",
       "  (d2): Dropout(p=0.3, inplace=False)\n",
       "  (fc2): Linear(in_features=1024, out_features=512, bias=True)\n",
       "  (fc3_verb): Linear(in_features=512, out_features=97, bias=True)\n",
       ")"
      ]
     },
     "execution_count": 26,
     "metadata": {},
     "output_type": "execute_result"
    }
   ],
   "source": [
    "classifier.model"
   ]
  },
  {
   "cell_type": "code",
   "execution_count": 40,
   "id": "cbf7bdb5",
   "metadata": {},
   "outputs": [
    {
     "data": {
      "text/plain": [
       "True"
      ]
     },
     "execution_count": 40,
     "metadata": {},
     "output_type": "execute_result"
    }
   ],
   "source": [
    "1 % 1000 == 1"
   ]
  },
  {
   "cell_type": "code",
   "execution_count": null,
   "id": "16db07d0",
   "metadata": {},
   "outputs": [],
   "source": []
  }
 ],
 "metadata": {
  "kernelspec": {
   "display_name": "Python 3",
   "language": "python",
   "name": "python3"
  },
  "language_info": {
   "codemirror_mode": {
    "name": "ipython",
    "version": 3
   },
   "file_extension": ".py",
   "mimetype": "text/x-python",
   "name": "python",
   "nbconvert_exporter": "python",
   "pygments_lexer": "ipython3",
   "version": "3.8.5"
  }
 },
 "nbformat": 4,
 "nbformat_minor": 5
}
