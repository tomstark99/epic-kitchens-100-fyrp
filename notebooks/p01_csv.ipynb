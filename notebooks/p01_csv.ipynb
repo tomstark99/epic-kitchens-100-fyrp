{
 "cells": [
  {
   "cell_type": "code",
   "execution_count": 1,
   "metadata": {},
   "outputs": [],
   "source": [
    "import pandas as pd\n",
    "import numpy as np\n",
    "from gulpio import GulpDirectory\n",
    "import pickle"
   ]
  },
  {
   "cell_type": "code",
   "execution_count": null,
   "metadata": {},
   "outputs": [],
   "source": [
    "df = pd.read_csv('../datasets/epic-100/labels/EPIC_100_train.csv', converters={'narration_id': str})['narration_id'].values"
   ]
  },
  {
   "cell_type": "code",
   "execution_count": null,
   "metadata": {},
   "outputs": [],
   "source": [
    "gulp_dir = GulpDirectory('../datasets/epic-100/gulp/p01/')"
   ]
  },
  {
   "cell_type": "code",
   "execution_count": null,
   "metadata": {},
   "outputs": [],
   "source": [
    "len(gulp_dir.merged_meta_dict.keys())"
   ]
  },
  {
   "cell_type": "code",
   "execution_count": null,
   "metadata": {},
   "outputs": [],
   "source": [
    "xd = [d for d in df if d[:3]=='P01']"
   ]
  },
  {
   "cell_type": "code",
   "execution_count": 2,
   "metadata": {},
   "outputs": [],
   "source": [
    "# with open('../datasets/epic-100/labels/p01.pkl', 'rb') as f:\n",
    "#     p01_subset = pickle.load(f).index.values\n",
    "with open('../datasets/epic-100/esvs/mtrn-esv-min_frames=1-max_frames=8.pkl', 'rb') as f:\n",
    "    p01_subset = pickle.load(f)"
   ]
  },
  {
   "cell_type": "code",
   "execution_count": null,
   "metadata": {},
   "outputs": [],
   "source": [
    "p01 = [d for d in gulp_dir.merged_meta_dict.keys() if d[:3]=='P01']"
   ]
  },
  {
   "cell_type": "code",
   "execution_count": null,
   "metadata": {},
   "outputs": [],
   "source": [
    "len(p01)"
   ]
  },
  {
   "cell_type": "code",
   "execution_count": 3,
   "metadata": {},
   "outputs": [
    {
     "data": {
      "text/plain": [
       "array([['P01_01_129'],\n",
       "       ['P01_01_105'],\n",
       "       ['P01_09_105'],\n",
       "       ['P01_07_22'],\n",
       "       ['P01_01_100'],\n",
       "       ['P01_03_16'],\n",
       "       ['P01_02_101'],\n",
       "       ['P01_02_6'],\n",
       "       ['P01_02_129'],\n",
       "       ['P01_102_29']], dtype=object)"
      ]
     },
     "execution_count": 3,
     "metadata": {},
     "output_type": "execute_result"
    }
   ],
   "source": [
    "subset = pd.read_csv('../subset.csv').values\n",
    "\n",
    "subset"
   ]
  },
  {
   "cell_type": "code",
   "execution_count": null,
   "metadata": {},
   "outputs": [],
   "source": [
    "index = np.where( == subset.squeeze().tolist())"
   ]
  },
  {
   "cell_type": "code",
   "execution_count": 4,
   "metadata": {},
   "outputs": [
    {
     "data": {
      "text/plain": [
       "array([False, False, False, ..., False, False, False])"
      ]
     },
     "execution_count": 4,
     "metadata": {},
     "output_type": "execute_result"
    }
   ],
   "source": [
    "indicies = np.array([x in subset.squeeze().tolist() for x in p01_subset['uids'].tolist()])\n",
    "indicies"
   ]
  },
  {
   "cell_type": "code",
   "execution_count": 5,
   "metadata": {},
   "outputs": [],
   "source": [
    "for k, v in p01_subset.items():\n",
    "    if type(v) == dict:\n",
    "        pass\n",
    "    elif type(v) == list:\n",
    "        new_x = []\n",
    "        for x in v:\n",
    "            new_x.append(x[indicies])\n",
    "        p01_subset[k] = new_x\n",
    "    elif v.ndim == 2:\n",
    "        p01_subset[k] = v[:,indicies]\n",
    "    elif v.ndim == 1:\n",
    "        p01_subset[k] = v[indicies]"
   ]
  },
  {
   "cell_type": "code",
   "execution_count": 6,
   "metadata": {},
   "outputs": [
    {
     "name": "stdout",
     "output_type": "stream",
     "text": [
      "uids, 10\n",
      "labels, 10\n",
      "sequence_lengths, 10\n",
      "scores, 8\n",
      "sequence_idxs, 8\n",
      "shapley_values, 8\n",
      "attrs, 2\n"
     ]
    }
   ],
   "source": [
    "for k, v in p01_subset.items():\n",
    "    print(f'{k}, {len(v)}')\n",
    "#     if type(v) == list:\n",
    "#         for x in v:\n",
    "#             print(len(x))"
   ]
  },
  {
   "cell_type": "code",
   "execution_count": 7,
   "metadata": {},
   "outputs": [],
   "source": [
    "with open('../datasets/epic-100/esvs/subset_mtrn-esv-min_frames=1-max_frames=8.pkl', 'wb') as f:\n",
    "    pickle.dump(p01_subset, f)"
   ]
  },
  {
   "cell_type": "code",
   "execution_count": null,
   "metadata": {},
   "outputs": [],
   "source": [
    "print(p01_subset)"
   ]
  },
  {
   "cell_type": "code",
   "execution_count": null,
   "metadata": {},
   "outputs": [],
   "source": []
  }
 ],
 "metadata": {
  "kernelspec": {
   "display_name": "Python 3",
   "language": "python",
   "name": "python3"
  },
  "language_info": {
   "codemirror_mode": {
    "name": "ipython",
    "version": 3
   },
   "file_extension": ".py",
   "mimetype": "text/x-python",
   "name": "python",
   "nbconvert_exporter": "python",
   "pygments_lexer": "ipython3",
   "version": "3.8.5"
  }
 },
 "nbformat": 4,
 "nbformat_minor": 2
}
