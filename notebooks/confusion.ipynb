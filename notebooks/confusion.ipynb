{
 "cells": [
  {
   "cell_type": "code",
   "execution_count": 1,
   "id": "466f67b3",
   "metadata": {},
   "outputs": [],
   "source": [
    "import seaborn as sn\n",
    "from systems import EpicActionRecogintionShapleyClassifier\n",
    "from datasets.pickle_dataset import MultiPickleDataset\n",
    "from models.esvs import V_MTRN, N_MTRN\n",
    "import torch\n",
    "from torch.utils.data import DataLoader\n",
    "from pathlib import Path\n",
    "import numpy as np\n",
    "from frame_sampling import RandomSampler\n",
    "import pandas as pd\n",
    "from tqdm import tqdm\n",
    "from collections import Counter"
   ]
  },
  {
   "cell_type": "code",
   "execution_count": 2,
   "id": "e35e0bfa",
   "metadata": {},
   "outputs": [],
   "source": [
    "def no_collate(args):\n",
    "    return args\n",
    "\n",
    "trainloader = DataLoader(MultiPickleDataset('../datasets/epic-100/features/13092_test_features.pkl'), batch_size=1, collate_fn=no_collate, shuffle=True)\n",
    "testloader = DataLoader(MultiPickleDataset('../datasets/epic-100/features/9668_val_features.pkl'), batch_size=1, collate_fn=no_collate, shuffle=False)"
   ]
  },
  {
   "cell_type": "code",
   "execution_count": 3,
   "id": "7af1905c",
   "metadata": {},
   "outputs": [
    {
     "name": "stdout",
     "output_type": "stream",
     "text": [
      "no noun model for 4 frames\n",
      "no noun model for 5 frames\n",
      "no noun model for 6 frames\n",
      "no noun model for 7 frames\n",
      "no noun model for 8 frames\n"
     ]
    }
   ],
   "source": [
    "v_models = [V_MTRN(frame_count=i) for i in range(1,9)]\n",
    "n_models = [N_MTRN(frame_count=i) for i in range(1,9)]\n",
    "frame_samplers = [RandomSampler(frame_count=i, snippet_length=1, test=False) for i in range(1,9)]\n",
    "for i in range(len(v_models)):\n",
    "    try:\n",
    "        v_models[i].load_state_dict(torch.load(Path('../datasets/epic-100/models/') / f'w_sh_mtrn-type=verb-frames={i+1}-batch_size=512-lr=0.0003.pt', map_location='cpu'))\n",
    "    except FileNotFoundError:\n",
    "        print(f'no verb model for {i+1} frames')\n",
    "    try:\n",
    "        n_models[i].load_state_dict(torch.load(Path('../datasets/epic-100/models/') / f'w_sh_mtrn-type=noun-frames={i+1}-batch_size=512-lr=0.0003.pt', map_location='cpu'))\n",
    "    except FileNotFoundError:\n",
    "        print(f'no noun model for {i+1} frames')"
   ]
  },
  {
   "cell_type": "code",
   "execution_count": 4,
   "id": "902c13e0",
   "metadata": {},
   "outputs": [],
   "source": [
    "verbs = pd.read_csv('../datasets/epic-100/labels/EPIC_100_verb_classes.csv')['key'].to_dict()\n",
    "nouns = pd.read_csv('../datasets/epic-100/labels/EPIC_100_noun_classes.csv')['key'].to_dict()"
   ]
  },
  {
   "cell_type": "code",
   "execution_count": 5,
   "id": "9828cbc0",
   "metadata": {},
   "outputs": [],
   "source": [
    "def get_per_class_accuracy(model, sampler):\n",
    "    \n",
    "    def compute_accuracy(preds, labels) -> float:\n",
    "        return float((labels == preds).sum()) / len(labels)\n",
    "\n",
    "    if isinstance(model, V_MTRN):\n",
    "        classes = verbs\n",
    "        m_type=\"verb\"\n",
    "    else:\n",
    "        classes = nouns\n",
    "        m_type=\"noun\"\n",
    "\n",
    "    classifier = EpicActionRecogintionShapleyClassifier(\n",
    "        model,\n",
    "        torch.device(\"cpu\"),\n",
    "        None,\n",
    "        sampler,\n",
    "        sampler,\n",
    "        None,\n",
    "        testloader,\n",
    "        m_type\n",
    "    )\n",
    "    \n",
    "    correct_pred = {classname: 0 for classname in classes.keys()}\n",
    "    incorrect_pred = {classname: {class_n: 0 for class_n in classes.keys()} for classname in classes.keys()}\n",
    "    total_pred = {classname: 0 for classname in classes.keys()}\n",
    "    \n",
    "#     print(correct_pred)\n",
    "#     print(incorrect_pred)\n",
    "#     print(total_pred)\n",
    "    \n",
    "    model.eval()\n",
    "    with torch.no_grad():\n",
    "        \n",
    "        validation_results = {\n",
    "            'loss': [],\n",
    "            'accuracy': [],\n",
    "            'preds': [],\n",
    "            'labels': []\n",
    "        }\n",
    "            \n",
    "        for idx, data in tqdm(enumerate(testloader),total=len(testloader),dynamic_ncols=True):\n",
    "            \n",
    "            batch, labels = classifier._sample_frames(data)\n",
    "            \n",
    "            logits = model(batch.to(torch.device('cpu')))\n",
    "            preds = logits.argmax(-1).cpu().numpy()\n",
    "            label_classes = labels[f'{m_type}_class']\n",
    "            \n",
    "#             print(f'pred: {preds}, label: {label_classes.cpu().numpy()}')\n",
    "\n",
    "            for label, pred in zip(label_classes.cpu().numpy(), preds):\n",
    "                if label == pred:\n",
    "                    correct_pred[label] += 1\n",
    "                incorrect_pred[label][pred] += 1\n",
    "                total_pred[label] += 1\n",
    "                        \n",
    "            validation_results['preds'].extend(list(preds))\n",
    "            validation_results['labels'].extend(list(label_classes.cpu().numpy()))\n",
    "            \n",
    "    validation_results['accuracy'] = compute_accuracy(\n",
    "        np.array(validation_results[\"labels\"]), \n",
    "        np.array(validation_results[\"preds\"])\n",
    "    )\n",
    "        \n",
    "        \n",
    "    print(validation_results['accuracy'])\n",
    "    \n",
    "#     print(correct_pred)\n",
    "#     print(incorrect_pred)\n",
    "#     print(total_pred)\n",
    "    \n",
    "    for classname, correct in correct_pred.items():\n",
    "        try:\n",
    "            accuracy = 100 * float(correct) / total_pred[classname]\n",
    "            print(\"Accuracy for class {:5s} is: {:.1f}%\".format(classes[classname], accuracy))\n",
    "        except ZeroDivisionError:\n",
    "            print(\"Did not predict class {:5s}\".format(classes[classname]))\n",
    "            \n",
    "    return classes, incorrect_pred"
   ]
  },
  {
   "cell_type": "code",
   "execution_count": 6,
   "id": "88980fcd",
   "metadata": {},
   "outputs": [
    {
     "name": "stderr",
     "output_type": "stream",
     "text": [
      "  1%|          | 86/9668 [00:00<00:11, 855.71it/s]"
     ]
    },
    {
     "name": "stdout",
     "output_type": "stream",
     "text": [
      "Classifier, model: <class 'models.esvs.V_MTRN'>, type: verb, frames: 4\n"
     ]
    },
    {
     "name": "stderr",
     "output_type": "stream",
     "text": [
      "100%|██████████| 9668/9668 [00:07<00:00, 1312.68it/s]"
     ]
    },
    {
     "name": "stdout",
     "output_type": "stream",
     "text": [
      "0.2640670252378982\n",
      "Accuracy for class take  is: 34.1%\n",
      "Accuracy for class put   is: 32.7%\n",
      "Accuracy for class wash  is: 46.6%\n",
      "Accuracy for class open  is: 42.6%\n",
      "Accuracy for class close is: 22.8%\n",
      "Accuracy for class insert is: 6.9%\n",
      "Accuracy for class turn-on is: 13.5%\n",
      "Accuracy for class cut   is: 21.9%\n",
      "Accuracy for class turn-off is: 0.9%\n",
      "Accuracy for class pour  is: 15.3%\n",
      "Accuracy for class mix   is: 27.5%\n",
      "Accuracy for class move  is: 0.7%\n",
      "Accuracy for class remove is: 1.3%\n",
      "Accuracy for class throw is: 22.7%\n",
      "Accuracy for class dry   is: 12.4%\n",
      "Accuracy for class shake is: 4.5%\n",
      "Accuracy for class scoop is: 0.0%\n",
      "Accuracy for class adjust is: 0.0%\n",
      "Accuracy for class squeeze is: 0.0%\n",
      "Accuracy for class peel  is: 4.8%\n",
      "Accuracy for class empty is: 2.1%\n",
      "Accuracy for class press is: 0.0%\n",
      "Accuracy for class flip  is: 0.0%\n",
      "Accuracy for class turn  is: 0.0%\n",
      "Accuracy for class check is: 0.0%\n",
      "Accuracy for class scrape is: 0.0%\n",
      "Accuracy for class fill  is: 22.6%\n",
      "Accuracy for class apply is: 0.0%\n",
      "Accuracy for class fold  is: 0.0%\n",
      "Accuracy for class scrub is: 25.0%\n",
      "Accuracy for class break is: 20.0%\n",
      "Accuracy for class pull  is: 0.0%\n",
      "Accuracy for class pat   is: 0.0%\n",
      "Accuracy for class lift  is: 0.0%\n",
      "Accuracy for class hold  is: 0.0%\n",
      "Accuracy for class eat   is: 0.0%\n",
      "Accuracy for class wrap  is: 0.0%\n",
      "Accuracy for class filter is: 0.0%\n",
      "Accuracy for class look  is: 0.0%\n",
      "Accuracy for class unroll is: 0.0%\n",
      "Accuracy for class sort  is: 0.0%\n",
      "Accuracy for class hang  is: 0.0%\n",
      "Accuracy for class sprinkle is: 0.0%\n",
      "Accuracy for class rip   is: 0.0%\n",
      "Accuracy for class spray is: 0.0%\n",
      "Accuracy for class cook  is: 12.5%\n",
      "Accuracy for class add   is: 3.4%\n",
      "Accuracy for class roll  is: 0.0%\n",
      "Accuracy for class search is: 0.0%\n",
      "Accuracy for class crush is: 0.0%\n",
      "Did not predict class stretch\n",
      "Accuracy for class knead is: 0.0%\n",
      "Accuracy for class divide is: 0.0%\n",
      "Accuracy for class set   is: 15.4%\n",
      "Did not predict class feel \n",
      "Accuracy for class rub   is: 0.0%\n",
      "Accuracy for class soak  is: 0.0%\n",
      "Accuracy for class brush is: 0.0%\n",
      "Did not predict class sharpen\n",
      "Accuracy for class drop  is: 0.0%\n",
      "Accuracy for class drink is: 0.0%\n",
      "Did not predict class slide\n",
      "Did not predict class water\n",
      "Accuracy for class gather is: 40.0%\n",
      "Accuracy for class attach is: 0.0%\n",
      "Accuracy for class turn-down is: 40.0%\n",
      "Did not predict class coat \n",
      "Accuracy for class transition is: 0.0%\n",
      "Accuracy for class wear  is: 0.0%\n",
      "Accuracy for class measure is: 0.0%\n",
      "Accuracy for class increase is: 0.0%\n",
      "Accuracy for class unscrew is: 0.0%\n",
      "Accuracy for class wait  is: 0.0%\n",
      "Did not predict class lower\n",
      "Did not predict class form \n",
      "Accuracy for class smell is: 0.0%\n",
      "Did not predict class use  \n",
      "Did not predict class grate\n",
      "Accuracy for class screw is: 0.0%\n",
      "Did not predict class let-go\n",
      "Accuracy for class finish is: 0.0%\n",
      "Accuracy for class stab  is: 0.0%\n",
      "Accuracy for class serve is: 16.7%\n",
      "Accuracy for class uncover is: 0.0%\n",
      "Accuracy for class unwrap is: 0.0%\n",
      "Accuracy for class choose is: 0.0%\n",
      "Did not predict class lock \n",
      "Did not predict class flatten\n",
      "Did not predict class switch\n",
      "Accuracy for class carry is: 0.0%\n",
      "Accuracy for class season is: 0.0%\n",
      "Did not predict class unlock\n",
      "Did not predict class prepare\n",
      "Accuracy for class bake  is: 0.0%\n",
      "Did not predict class mark \n",
      "Did not predict class bend \n",
      "Did not predict class unfreeze\n"
     ]
    },
    {
     "name": "stderr",
     "output_type": "stream",
     "text": [
      "\n"
     ]
    }
   ],
   "source": [
    "classes, incorrect_pred = get_per_class_accuracy(model=v_models[3], sampler=frame_samplers[3])"
   ]
  },
  {
   "cell_type": "code",
   "execution_count": 7,
   "id": "25e8888c",
   "metadata": {},
   "outputs": [],
   "source": [
    "class_list = list(classes.values())\n",
    "cnf = np.array([[x for x in y.values()] for y in incorrect_pred.values()])"
   ]
  },
  {
   "cell_type": "code",
   "execution_count": 8,
   "id": "a583b9e4",
   "metadata": {},
   "outputs": [
    {
     "data": {
      "image/png": "[encoded data removed]",
      "text/plain": [
       "<Figure size 1440x1008 with 2 Axes>"
      ]
     },
     "metadata": {
      "needs_background": "light"
     },
     "output_type": "display_data"
    }
   ],
   "source": [
    "import matplotlib.pyplot as plt\n",
    "\n",
    "df_cm = pd.DataFrame(cnf, index = [i for i in class_list],\n",
    "                  columns = [i for i in class_list])\n",
    "plt.figure(figsize = (20,14))\n",
    "cnf_matrix = sn.heatmap(df_cm, annot=False, cmap=\"YlGnBu\")"
   ]
  },
  {
   "cell_type": "code",
   "execution_count": 67,
   "id": "464a7a3a",
   "metadata": {},
   "outputs": [],
   "source": [
    "cnf_matrix.get_figure().savefig('conf.png', dpi=72)"
   ]
  },
  {
   "cell_type": "code",
   "execution_count": null,
   "id": "e34cdcbe",
   "metadata": {},
   "outputs": [],
   "source": []
  },
  {
   "cell_type": "code",
   "execution_count": null,
   "id": "924da21e",
   "metadata": {},
   "outputs": [],
   "source": []
  },
  {
   "cell_type": "code",
   "execution_count": null,
   "id": "c32fe1b0",
   "metadata": {},
   "outputs": [],
   "source": []
  }
 ],
 "metadata": {
  "kernelspec": {
   "display_name": "Python 3",
   "language": "python",
   "name": "python3"
  },
  "language_info": {
   "codemirror_mode": {
    "name": "ipython",
    "version": 3
   },
   "file_extension": ".py",
   "mimetype": "text/x-python",
   "name": "python",
   "nbconvert_exporter": "python",
   "pygments_lexer": "ipython3",
   "version": "3.8.5"
  }
 },
 "nbformat": 4,
 "nbformat_minor": 5
}
